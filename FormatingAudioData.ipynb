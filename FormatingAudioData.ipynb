{
 "cells": [
  {
   "cell_type": "code",
   "execution_count": 2,
   "metadata": {},
   "outputs": [],
   "source": [
    "import os\n",
    "import librosa\n",
    "import numpy as np\n",
    "import pandas as pd\n",
    "from sklearn.model_selection import train_test_split\n",
    "from tqdm import tqdm"
   ]
  },
  {
   "cell_type": "markdown",
   "metadata": {},
   "source": [
    "We will go through all the files and extrac the audio files represent it as numbers, generate MFCCs for them and save all the MFCCs and labels in a pickle file"
   ]
  },
  {
   "cell_type": "code",
   "execution_count": 2,
   "metadata": {},
   "outputs": [
    {
     "name": "stderr",
     "output_type": "stream",
     "text": [
      "100%|██████████| 441/441 [19:01<00:00,  2.59s/it]\n",
      "100%|██████████| 751/751 [36:32<00:00,  2.92s/it]\n",
      "100%|██████████| 367/367 [22:51<00:00,  3.74s/it]\n"
     ]
    },
    {
     "name": "stdout",
     "output_type": "stream",
     "text": [
      "Data loaded and split into training and testing sets.\n"
     ]
    }
   ],
   "source": [
    "\n",
    "def extract_features(file_path):\n",
    "    # Load the audio file\n",
    "    audio, sample_rate = librosa.load(file_path)\n",
    "    # Extract MFCCs\n",
    "    mfccs = librosa.feature.mfcc(y=audio, sr=sample_rate, n_mfcc=40)\n",
    "    # Average MFCCs over time frames\n",
    "    mfccs_processed = np.mean(mfccs.T, axis=0)\n",
    "    \n",
    "    return mfccs_processed\n",
    "\n",
    "def load_data(data_path):\n",
    "    features = []\n",
    "    labels = []\n",
    "    for folder in os.listdir(data_path):\n",
    "        if os.path.isdir(os.path.join(data_path, folder)):\n",
    "            for subfolder in tqdm(os.listdir(os.path.join(data_path, folder))):\n",
    "                subfolder_path = os.path.join(data_path, folder, subfolder)\n",
    "                if os.path.isdir(subfolder_path):\n",
    "                    for file in os.listdir(subfolder_path):\n",
    "                        if file.endswith('.mp3'):  # Assuming files are in MP3 format\n",
    "                            file_path = os.path.join(subfolder_path, file)\n",
    "                            data = extract_features(file_path)\n",
    "                            features.append(data)\n",
    "                            labels.append(folder)\n",
    "    return features, labels\n",
    "\n",
    "# Load the dataset\n",
    "data_path = r'C:\\Users\\neel2\\Code\\data\\data255'  # Change this to your dataset's path\n",
    "features, labels = load_data(data_path)\n",
    "\n",
    "# Convert to DataFrame\n",
    "df = pd.DataFrame(features)\n",
    "df['label'] = labels\n",
    "\n",
    "\n",
    "print('Data loaded and split into training and testing sets.')\n",
    "df.to_csv('all_data.csv', index=False)\n",
    "df.to_pickle('all_data.pkl')"
   ]
  },
  {
   "cell_type": "markdown",
   "metadata": {},
   "source": [
    "##### The below code is computationally very expensive and will generate 3 pickle files which are over 20Gb in size each. So execute them with caution"
   ]
  },
  {
   "cell_type": "markdown",
   "metadata": {},
   "source": [
    "We will go through all the files and extrac the audio files represent it as numbers, extrac meta data such as sampling rate and audio length and save everything as a csv as well as pickle file. "
   ]
  },
  {
   "cell_type": "code",
   "execution_count": 3,
   "metadata": {},
   "outputs": [],
   "source": [
    "def extract_meta_features(file_path):\n",
    "    # Load the audio file\n",
    "    audio, sample_rate = librosa.load(file_path)\n",
    "    #finding file length\n",
    "    file_length = librosa.get_duration(y=audio, sr=sample_rate)\n",
    "    return audio, sample_rate, file_length\n",
    "\n",
    "def load_meta_data(data_path,ln):\n",
    "    audios = []\n",
    "    sample_rates = []\n",
    "    file_lengths = []\n",
    "    labels = []\n",
    "    for folder in os.listdir(data_path):\n",
    "      if folder == ln:\n",
    "        if os.path.isdir(os.path.join(data_path, folder)):\n",
    "            for subfolder in tqdm(os.listdir(os.path.join(data_path, folder))):\n",
    "                subfolder_path = os.path.join(data_path, folder, subfolder)\n",
    "                if os.path.isdir(subfolder_path):\n",
    "                    for file in os.listdir(subfolder_path):\n",
    "                        if file.endswith('.mp3'):  # Assuming files are in MP3 format\n",
    "                            file_path = os.path.join(subfolder_path, file)\n",
    "                            audio, sample_rate, file_length = extract_meta_features(file_path)\n",
    "                            audios.append(audio)\n",
    "                            sample_rates.append(sample_rate)\n",
    "                            file_lengths.append(file_length)\n",
    "                            labels.append(folder)\n",
    "    return audios, sample_rates, file_lengths, labels\n",
    "\n",
    "\n",
    "    "
   ]
  },
  {
   "cell_type": "markdown",
   "metadata": {},
   "source": [
    "Extracting data from all english files"
   ]
  },
  {
   "cell_type": "code",
   "execution_count": 4,
   "metadata": {},
   "outputs": [],
   "source": [
    "# Load the dataset\n",
    "data_path = r'C:\\Users\\neel2\\Code\\data\\data255'  # Change this to your dataset's path\n"
   ]
  },
  {
   "cell_type": "code",
   "execution_count": null,
   "metadata": {},
   "outputs": [],
   "source": [
    "audios, sample_rates, file_lengths, labels = load_meta_data(data_path,'english')"
   ]
  },
  {
   "cell_type": "code",
   "execution_count": 5,
   "metadata": {},
   "outputs": [],
   "source": [
    "df_meta_english = pd.DataFrame()\n",
    "df_meta_english['audio'] = audios\n",
    "df_meta_english['sample_rate'] = sample_rates\n",
    "df_meta_english['file_length'] = file_lengths\n",
    "df_meta_english['label'] = labels\n",
    "df_meta_english.to_csv('meta_data_english.csv', index=False)\n",
    "df_meta_english.to_pickle('all_meta_english.pkl')\n"
   ]
  },
  {
   "cell_type": "markdown",
   "metadata": {},
   "source": [
    "Memory Management"
   ]
  },
  {
   "cell_type": "code",
   "execution_count": 6,
   "metadata": {},
   "outputs": [],
   "source": [
    "\n",
    "del audios, sample_rates, file_lengths, labels"
   ]
  },
  {
   "cell_type": "code",
   "execution_count": 8,
   "metadata": {},
   "outputs": [
    {
     "data": {
      "text/plain": [
       "473"
      ]
     },
     "execution_count": 8,
     "metadata": {},
     "output_type": "execute_result"
    }
   ],
   "source": [
    "import gc\n",
    "gc.collect()"
   ]
  },
  {
   "cell_type": "markdown",
   "metadata": {},
   "source": [
    "Extracting for all french data"
   ]
  },
  {
   "cell_type": "code",
   "execution_count": 8,
   "metadata": {},
   "outputs": [
    {
     "name": "stderr",
     "output_type": "stream",
     "text": [
      "100%|██████████| 751/751 [1:12:31<00:00,  5.79s/it]\n"
     ]
    }
   ],
   "source": [
    "audios, sample_rates, file_lengths, labels = load_meta_data(data_path,'french')"
   ]
  },
  {
   "cell_type": "code",
   "execution_count": 9,
   "metadata": {},
   "outputs": [],
   "source": [
    "df_meta_french = pd.DataFrame()\n",
    "df_meta_french['audio'] = audios\n",
    "df_meta_french['sample_rate'] = sample_rates\n",
    "df_meta_french['file_length'] = file_lengths\n",
    "df_meta_french['label'] = labels\n",
    "df_meta_french.to_csv('meta_data_french.csv', index=False)\n",
    "df_meta_french.to_pickle('all_meta_french.pkl')\n"
   ]
  },
  {
   "cell_type": "code",
   "execution_count": 10,
   "metadata": {},
   "outputs": [
    {
     "data": {
      "text/plain": [
       "0"
      ]
     },
     "execution_count": 10,
     "metadata": {},
     "output_type": "execute_result"
    }
   ],
   "source": [
    "del audios, sample_rates, file_lengths, labels\n",
    "gc.collect()"
   ]
  },
  {
   "cell_type": "markdown",
   "metadata": {},
   "source": [
    "Extracting for all spanish data"
   ]
  },
  {
   "cell_type": "code",
   "execution_count": 5,
   "metadata": {},
   "outputs": [
    {
     "name": "stderr",
     "output_type": "stream",
     "text": [
      "100%|██████████| 367/367 [16:42<00:00,  2.73s/it]\n"
     ]
    }
   ],
   "source": [
    "audios, sample_rates, file_lengths, labels = load_meta_data(data_path,'spanish')"
   ]
  },
  {
   "cell_type": "code",
   "execution_count": 6,
   "metadata": {},
   "outputs": [],
   "source": [
    "df_meta_spanish = pd.DataFrame()\n",
    "df_meta_spanish['audio'] = audios\n",
    "df_meta_spanish['sample_rate'] = sample_rates\n",
    "df_meta_spanish['file_length'] = file_lengths\n",
    "df_meta_spanish['label'] = labels\n",
    "df_meta_spanish.to_csv('meta_data_spanish.csv', index=False)\n",
    "df_meta_spanish.to_pickle('all_meta_spanish.pkl')\n"
   ]
  },
  {
   "cell_type": "code",
   "execution_count": null,
   "metadata": {},
   "outputs": [],
   "source": [
    "del audios, sample_rates, file_lengths, labels\n",
    "gc.collect()"
   ]
  },
  {
   "cell_type": "markdown",
   "metadata": {},
   "source": [
    "Combine the audio meta data for all 3 files"
   ]
  },
  {
   "cell_type": "code",
   "execution_count": 9,
   "metadata": {},
   "outputs": [],
   "source": [
    "#combinig all 3 meta dataframes\n",
    "en =pd.read_csv('meta_data_english.csv')\n",
    "fr =pd.read_csv('meta_data_french.csv')\n",
    "sp =pd.read_csv('meta_data_spanish.csv')\n",
    "\n",
    "df_meta = pd.concat([en,fr,sp],ignore_index=True)"
   ]
  },
  {
   "cell_type": "code",
   "execution_count": 11,
   "metadata": {},
   "outputs": [],
   "source": [
    "df_meta.to_csv('all_meta_data.csv', index=False)"
   ]
  },
  {
   "cell_type": "code",
   "execution_count": null,
   "metadata": {},
   "outputs": [],
   "source": []
  }
 ],
 "metadata": {
  "kernelspec": {
   "display_name": "Python 3",
   "language": "python",
   "name": "python3"
  },
  "language_info": {
   "codemirror_mode": {
    "name": "ipython",
    "version": 3
   },
   "file_extension": ".py",
   "mimetype": "text/x-python",
   "name": "python",
   "nbconvert_exporter": "python",
   "pygments_lexer": "ipython3",
   "version": "3.11.4"
  }
 },
 "nbformat": 4,
 "nbformat_minor": 2
}
