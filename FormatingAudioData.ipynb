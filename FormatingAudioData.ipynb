{
 "cells": [
  {
   "cell_type": "code",
   "execution_count": 2,
   "metadata": {},
   "outputs": [
    {
     "name": "stderr",
     "output_type": "stream",
     "text": [
      "100%|██████████| 441/441 [19:01<00:00,  2.59s/it]\n",
      "100%|██████████| 751/751 [36:32<00:00,  2.92s/it]\n",
      "100%|██████████| 367/367 [22:51<00:00,  3.74s/it]\n"
     ]
    },
    {
     "name": "stdout",
     "output_type": "stream",
     "text": [
      "Data loaded and split into training and testing sets.\n"
     ]
    }
   ],
   "source": [
    "import os\n",
    "import librosa\n",
    "import numpy as np\n",
    "import pandas as pd\n",
    "from sklearn.model_selection import train_test_split\n",
    "from tqdm import tqdm\n",
    "def extract_features(file_path):\n",
    "    # Load the audio file\n",
    "    audio, sample_rate = librosa.load(file_path)\n",
    "    # Extract MFCCs\n",
    "    mfccs = librosa.feature.mfcc(y=audio, sr=sample_rate, n_mfcc=40)\n",
    "    # Average MFCCs over time frames\n",
    "    mfccs_processed = np.mean(mfccs.T, axis=0)\n",
    "    \n",
    "    return mfccs_processed\n",
    "\n",
    "def load_data(data_path):\n",
    "    features = []\n",
    "    labels = []\n",
    "    for folder in os.listdir(data_path):\n",
    "        if os.path.isdir(os.path.join(data_path, folder)):\n",
    "            for subfolder in tqdm(os.listdir(os.path.join(data_path, folder))):\n",
    "                subfolder_path = os.path.join(data_path, folder, subfolder)\n",
    "                if os.path.isdir(subfolder_path):\n",
    "                    for file in os.listdir(subfolder_path):\n",
    "                        if file.endswith('.mp3'):  # Assuming files are in MP3 format\n",
    "                            file_path = os.path.join(subfolder_path, file)\n",
    "                            data = extract_features(file_path)\n",
    "                            features.append(data)\n",
    "                            labels.append(folder)\n",
    "    return features, labels\n",
    "\n",
    "# Load the dataset\n",
    "data_path = r'C:\\Users\\neel2\\Code\\data\\data255'  # Change this to your dataset's path\n",
    "features, labels = load_data(data_path)\n",
    "\n",
    "# Convert to DataFrame\n",
    "df = pd.DataFrame(features)\n",
    "df['label'] = labels\n",
    "\n",
    "# Create train-test split\n",
    "X_train, X_test, y_train, y_test = train_test_split(df.drop('label', axis=1), df['label'], test_size=0.2, random_state=0)\n",
    "\n",
    "print('Data loaded and split into training and testing sets.')\n",
    "df.to_csv('all_data.csv', index=False)\n",
    "df.to_pickle('all_data.pkl')"
   ]
  },
  {
   "cell_type": "code",
   "execution_count": 3,
   "metadata": {},
   "outputs": [
    {
     "data": {
      "text/plain": [
       "(155712, 41)"
      ]
     },
     "execution_count": 3,
     "metadata": {},
     "output_type": "execute_result"
    }
   ],
   "source": [
    "df.shape"
   ]
  },
  {
   "cell_type": "code",
   "execution_count": 5,
   "metadata": {},
   "outputs": [
    {
     "data": {
      "text/plain": [
       "0"
      ]
     },
     "execution_count": 5,
     "metadata": {},
     "output_type": "execute_result"
    }
   ],
   "source": [
    "df.isna().sum().sum()"
   ]
  },
  {
   "cell_type": "code",
   "execution_count": null,
   "metadata": {},
   "outputs": [],
   "source": [
    "#getting the raw data for each audio files \n",
    "data_path = r'C:\\Users\\neel2\\Code\\data\\data255\\english\\'  # Change this to your dataset's path"
   ]
  }
 ],
 "metadata": {
  "kernelspec": {
   "display_name": "Python 3",
   "language": "python",
   "name": "python3"
  },
  "language_info": {
   "codemirror_mode": {
    "name": "ipython",
    "version": 3
   },
   "file_extension": ".py",
   "mimetype": "text/x-python",
   "name": "python",
   "nbconvert_exporter": "python",
   "pygments_lexer": "ipython3",
   "version": "3.11.4"
  }
 },
 "nbformat": 4,
 "nbformat_minor": 2
}
