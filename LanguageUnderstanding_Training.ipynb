{
  "nbformat": 4,
  "nbformat_minor": 0,
  "metadata": {
    "colab": {
      "provenance": [],
      "gpuType": "T4",
      "mount_file_id": "1a2EExMaKieFOrdtTmWpOsY_Qyotohl6H",
      "authorship_tag": "ABX9TyPQFMz2xYIuF0KkWCALemK8",
      "include_colab_link": true
    },
    "kernelspec": {
      "name": "python3",
      "display_name": "Python 3"
    },
    "language_info": {
      "name": "python"
    },
    "accelerator": "GPU"
  },
  "cells": [
    {
      "cell_type": "markdown",
      "metadata": {
        "id": "view-in-github",
        "colab_type": "text"
      },
      "source": [
        "<a href=\"https://colab.research.google.com/github/NickKornienko/Language-Identification-model/blob/main/LanguageUnderstanding_Training.ipynb\" target=\"_parent\"><img src=\"https://colab.research.google.com/assets/colab-badge.svg\" alt=\"Open In Colab\"/></a>"
      ]
    },
    {
      "cell_type": "code",
      "execution_count": null,
      "metadata": {
        "id": "y9B1GrKKnDcV"
      },
      "outputs": [],
      "source": [
        "import pandas as pd\n",
        "import numpy as np\n",
        "import matplotlib.pyplot as plt"
      ]
    },
    {
      "cell_type": "code",
      "source": [
        "df = pd.read_pickle('/content/drive/MyDrive/all_data.pkl')\n",
        "df.head()"
      ],
      "metadata": {
        "colab": {
          "base_uri": "https://localhost:8080/",
          "height": 256
        },
        "id": "xE_l3Acpn22L",
        "outputId": "fffd9cdf-59aa-49f5-e1fe-a2755551aac5"
      },
      "execution_count": null,
      "outputs": [
        {
          "output_type": "execute_result",
          "data": {
            "text/plain": [
              "            0           1          2          3          4          5  \\\n",
              "0 -368.843903   77.270210 -28.758459  28.591148  -9.293530  -6.967359   \n",
              "1 -292.091400  107.465469 -44.139664  44.164894 -17.887180 -12.471088   \n",
              "2 -318.740234   95.526634 -39.401192  27.715158 -22.705025  -6.303998   \n",
              "3 -315.532990   92.288322 -40.423939  34.508945 -18.966898  -4.724030   \n",
              "4 -301.566803   83.467590 -43.062504  54.350731 -23.995485   0.010661   \n",
              "\n",
              "          6          7         8          9  ...        31        32  \\\n",
              "0  2.937174   0.106718 -2.853848  -5.559022  ... -5.811731 -2.380488   \n",
              "1 -3.590851  -7.044466 -7.811891  -6.014475  ... -5.738669 -5.255381   \n",
              "2 -8.845734  -5.550812 -3.317510 -11.346023  ... -2.474380 -3.832747   \n",
              "3 -8.200343 -17.788260 -7.930902  -5.146729  ... -3.247579 -5.742671   \n",
              "4 -7.562351  -6.149078 -7.499183  -4.696762  ... -3.790015 -5.441263   \n",
              "\n",
              "         33        34        35        36        37        38        39  \\\n",
              "0 -1.242046 -3.116185  0.163225 -0.594025  0.902249  2.282130  2.089625   \n",
              "1 -1.789235 -2.641787  0.179766  2.768640  4.179280  6.194175  6.816234   \n",
              "2 -0.532228  0.773945 -2.555231  1.881754  1.472016  3.019983  5.518497   \n",
              "3 -3.982553 -1.573804 -2.270712  2.832158  2.902952  4.061225  5.034604   \n",
              "4 -4.541253 -1.572427 -4.257127  0.672188  1.667025  4.608165  6.336764   \n",
              "\n",
              "     label  \n",
              "0  english  \n",
              "1  english  \n",
              "2  english  \n",
              "3  english  \n",
              "4  english  \n",
              "\n",
              "[5 rows x 41 columns]"
            ],
            "text/html": [
              "\n",
              "  <div id=\"df-d2397402-3585-4de1-b44d-35a09279e91d\" class=\"colab-df-container\">\n",
              "    <div>\n",
              "<style scoped>\n",
              "    .dataframe tbody tr th:only-of-type {\n",
              "        vertical-align: middle;\n",
              "    }\n",
              "\n",
              "    .dataframe tbody tr th {\n",
              "        vertical-align: top;\n",
              "    }\n",
              "\n",
              "    .dataframe thead th {\n",
              "        text-align: right;\n",
              "    }\n",
              "</style>\n",
              "<table border=\"1\" class=\"dataframe\">\n",
              "  <thead>\n",
              "    <tr style=\"text-align: right;\">\n",
              "      <th></th>\n",
              "      <th>0</th>\n",
              "      <th>1</th>\n",
              "      <th>2</th>\n",
              "      <th>3</th>\n",
              "      <th>4</th>\n",
              "      <th>5</th>\n",
              "      <th>6</th>\n",
              "      <th>7</th>\n",
              "      <th>8</th>\n",
              "      <th>9</th>\n",
              "      <th>...</th>\n",
              "      <th>31</th>\n",
              "      <th>32</th>\n",
              "      <th>33</th>\n",
              "      <th>34</th>\n",
              "      <th>35</th>\n",
              "      <th>36</th>\n",
              "      <th>37</th>\n",
              "      <th>38</th>\n",
              "      <th>39</th>\n",
              "      <th>label</th>\n",
              "    </tr>\n",
              "  </thead>\n",
              "  <tbody>\n",
              "    <tr>\n",
              "      <th>0</th>\n",
              "      <td>-368.843903</td>\n",
              "      <td>77.270210</td>\n",
              "      <td>-28.758459</td>\n",
              "      <td>28.591148</td>\n",
              "      <td>-9.293530</td>\n",
              "      <td>-6.967359</td>\n",
              "      <td>2.937174</td>\n",
              "      <td>0.106718</td>\n",
              "      <td>-2.853848</td>\n",
              "      <td>-5.559022</td>\n",
              "      <td>...</td>\n",
              "      <td>-5.811731</td>\n",
              "      <td>-2.380488</td>\n",
              "      <td>-1.242046</td>\n",
              "      <td>-3.116185</td>\n",
              "      <td>0.163225</td>\n",
              "      <td>-0.594025</td>\n",
              "      <td>0.902249</td>\n",
              "      <td>2.282130</td>\n",
              "      <td>2.089625</td>\n",
              "      <td>english</td>\n",
              "    </tr>\n",
              "    <tr>\n",
              "      <th>1</th>\n",
              "      <td>-292.091400</td>\n",
              "      <td>107.465469</td>\n",
              "      <td>-44.139664</td>\n",
              "      <td>44.164894</td>\n",
              "      <td>-17.887180</td>\n",
              "      <td>-12.471088</td>\n",
              "      <td>-3.590851</td>\n",
              "      <td>-7.044466</td>\n",
              "      <td>-7.811891</td>\n",
              "      <td>-6.014475</td>\n",
              "      <td>...</td>\n",
              "      <td>-5.738669</td>\n",
              "      <td>-5.255381</td>\n",
              "      <td>-1.789235</td>\n",
              "      <td>-2.641787</td>\n",
              "      <td>0.179766</td>\n",
              "      <td>2.768640</td>\n",
              "      <td>4.179280</td>\n",
              "      <td>6.194175</td>\n",
              "      <td>6.816234</td>\n",
              "      <td>english</td>\n",
              "    </tr>\n",
              "    <tr>\n",
              "      <th>2</th>\n",
              "      <td>-318.740234</td>\n",
              "      <td>95.526634</td>\n",
              "      <td>-39.401192</td>\n",
              "      <td>27.715158</td>\n",
              "      <td>-22.705025</td>\n",
              "      <td>-6.303998</td>\n",
              "      <td>-8.845734</td>\n",
              "      <td>-5.550812</td>\n",
              "      <td>-3.317510</td>\n",
              "      <td>-11.346023</td>\n",
              "      <td>...</td>\n",
              "      <td>-2.474380</td>\n",
              "      <td>-3.832747</td>\n",
              "      <td>-0.532228</td>\n",
              "      <td>0.773945</td>\n",
              "      <td>-2.555231</td>\n",
              "      <td>1.881754</td>\n",
              "      <td>1.472016</td>\n",
              "      <td>3.019983</td>\n",
              "      <td>5.518497</td>\n",
              "      <td>english</td>\n",
              "    </tr>\n",
              "    <tr>\n",
              "      <th>3</th>\n",
              "      <td>-315.532990</td>\n",
              "      <td>92.288322</td>\n",
              "      <td>-40.423939</td>\n",
              "      <td>34.508945</td>\n",
              "      <td>-18.966898</td>\n",
              "      <td>-4.724030</td>\n",
              "      <td>-8.200343</td>\n",
              "      <td>-17.788260</td>\n",
              "      <td>-7.930902</td>\n",
              "      <td>-5.146729</td>\n",
              "      <td>...</td>\n",
              "      <td>-3.247579</td>\n",
              "      <td>-5.742671</td>\n",
              "      <td>-3.982553</td>\n",
              "      <td>-1.573804</td>\n",
              "      <td>-2.270712</td>\n",
              "      <td>2.832158</td>\n",
              "      <td>2.902952</td>\n",
              "      <td>4.061225</td>\n",
              "      <td>5.034604</td>\n",
              "      <td>english</td>\n",
              "    </tr>\n",
              "    <tr>\n",
              "      <th>4</th>\n",
              "      <td>-301.566803</td>\n",
              "      <td>83.467590</td>\n",
              "      <td>-43.062504</td>\n",
              "      <td>54.350731</td>\n",
              "      <td>-23.995485</td>\n",
              "      <td>0.010661</td>\n",
              "      <td>-7.562351</td>\n",
              "      <td>-6.149078</td>\n",
              "      <td>-7.499183</td>\n",
              "      <td>-4.696762</td>\n",
              "      <td>...</td>\n",
              "      <td>-3.790015</td>\n",
              "      <td>-5.441263</td>\n",
              "      <td>-4.541253</td>\n",
              "      <td>-1.572427</td>\n",
              "      <td>-4.257127</td>\n",
              "      <td>0.672188</td>\n",
              "      <td>1.667025</td>\n",
              "      <td>4.608165</td>\n",
              "      <td>6.336764</td>\n",
              "      <td>english</td>\n",
              "    </tr>\n",
              "  </tbody>\n",
              "</table>\n",
              "<p>5 rows × 41 columns</p>\n",
              "</div>\n",
              "    <div class=\"colab-df-buttons\">\n",
              "\n",
              "  <div class=\"colab-df-container\">\n",
              "    <button class=\"colab-df-convert\" onclick=\"convertToInteractive('df-d2397402-3585-4de1-b44d-35a09279e91d')\"\n",
              "            title=\"Convert this dataframe to an interactive table.\"\n",
              "            style=\"display:none;\">\n",
              "\n",
              "  <svg xmlns=\"http://www.w3.org/2000/svg\" height=\"24px\" viewBox=\"0 -960 960 960\">\n",
              "    <path d=\"M120-120v-720h720v720H120Zm60-500h600v-160H180v160Zm220 220h160v-160H400v160Zm0 220h160v-160H400v160ZM180-400h160v-160H180v160Zm440 0h160v-160H620v160ZM180-180h160v-160H180v160Zm440 0h160v-160H620v160Z\"/>\n",
              "  </svg>\n",
              "    </button>\n",
              "\n",
              "  <style>\n",
              "    .colab-df-container {\n",
              "      display:flex;\n",
              "      gap: 12px;\n",
              "    }\n",
              "\n",
              "    .colab-df-convert {\n",
              "      background-color: #E8F0FE;\n",
              "      border: none;\n",
              "      border-radius: 50%;\n",
              "      cursor: pointer;\n",
              "      display: none;\n",
              "      fill: #1967D2;\n",
              "      height: 32px;\n",
              "      padding: 0 0 0 0;\n",
              "      width: 32px;\n",
              "    }\n",
              "\n",
              "    .colab-df-convert:hover {\n",
              "      background-color: #E2EBFA;\n",
              "      box-shadow: 0px 1px 2px rgba(60, 64, 67, 0.3), 0px 1px 3px 1px rgba(60, 64, 67, 0.15);\n",
              "      fill: #174EA6;\n",
              "    }\n",
              "\n",
              "    .colab-df-buttons div {\n",
              "      margin-bottom: 4px;\n",
              "    }\n",
              "\n",
              "    [theme=dark] .colab-df-convert {\n",
              "      background-color: #3B4455;\n",
              "      fill: #D2E3FC;\n",
              "    }\n",
              "\n",
              "    [theme=dark] .colab-df-convert:hover {\n",
              "      background-color: #434B5C;\n",
              "      box-shadow: 0px 1px 3px 1px rgba(0, 0, 0, 0.15);\n",
              "      filter: drop-shadow(0px 1px 2px rgba(0, 0, 0, 0.3));\n",
              "      fill: #FFFFFF;\n",
              "    }\n",
              "  </style>\n",
              "\n",
              "    <script>\n",
              "      const buttonEl =\n",
              "        document.querySelector('#df-d2397402-3585-4de1-b44d-35a09279e91d button.colab-df-convert');\n",
              "      buttonEl.style.display =\n",
              "        google.colab.kernel.accessAllowed ? 'block' : 'none';\n",
              "\n",
              "      async function convertToInteractive(key) {\n",
              "        const element = document.querySelector('#df-d2397402-3585-4de1-b44d-35a09279e91d');\n",
              "        const dataTable =\n",
              "          await google.colab.kernel.invokeFunction('convertToInteractive',\n",
              "                                                    [key], {});\n",
              "        if (!dataTable) return;\n",
              "\n",
              "        const docLinkHtml = 'Like what you see? Visit the ' +\n",
              "          '<a target=\"_blank\" href=https://colab.research.google.com/notebooks/data_table.ipynb>data table notebook</a>'\n",
              "          + ' to learn more about interactive tables.';\n",
              "        element.innerHTML = '';\n",
              "        dataTable['output_type'] = 'display_data';\n",
              "        await google.colab.output.renderOutput(dataTable, element);\n",
              "        const docLink = document.createElement('div');\n",
              "        docLink.innerHTML = docLinkHtml;\n",
              "        element.appendChild(docLink);\n",
              "      }\n",
              "    </script>\n",
              "  </div>\n",
              "\n",
              "\n",
              "<div id=\"df-a0644d91-0ea9-4b4c-8d76-4f5f5b9f171a\">\n",
              "  <button class=\"colab-df-quickchart\" onclick=\"quickchart('df-a0644d91-0ea9-4b4c-8d76-4f5f5b9f171a')\"\n",
              "            title=\"Suggest charts\"\n",
              "            style=\"display:none;\">\n",
              "\n",
              "<svg xmlns=\"http://www.w3.org/2000/svg\" height=\"24px\"viewBox=\"0 0 24 24\"\n",
              "     width=\"24px\">\n",
              "    <g>\n",
              "        <path d=\"M19 3H5c-1.1 0-2 .9-2 2v14c0 1.1.9 2 2 2h14c1.1 0 2-.9 2-2V5c0-1.1-.9-2-2-2zM9 17H7v-7h2v7zm4 0h-2V7h2v10zm4 0h-2v-4h2v4z\"/>\n",
              "    </g>\n",
              "</svg>\n",
              "  </button>\n",
              "\n",
              "<style>\n",
              "  .colab-df-quickchart {\n",
              "      --bg-color: #E8F0FE;\n",
              "      --fill-color: #1967D2;\n",
              "      --hover-bg-color: #E2EBFA;\n",
              "      --hover-fill-color: #174EA6;\n",
              "      --disabled-fill-color: #AAA;\n",
              "      --disabled-bg-color: #DDD;\n",
              "  }\n",
              "\n",
              "  [theme=dark] .colab-df-quickchart {\n",
              "      --bg-color: #3B4455;\n",
              "      --fill-color: #D2E3FC;\n",
              "      --hover-bg-color: #434B5C;\n",
              "      --hover-fill-color: #FFFFFF;\n",
              "      --disabled-bg-color: #3B4455;\n",
              "      --disabled-fill-color: #666;\n",
              "  }\n",
              "\n",
              "  .colab-df-quickchart {\n",
              "    background-color: var(--bg-color);\n",
              "    border: none;\n",
              "    border-radius: 50%;\n",
              "    cursor: pointer;\n",
              "    display: none;\n",
              "    fill: var(--fill-color);\n",
              "    height: 32px;\n",
              "    padding: 0;\n",
              "    width: 32px;\n",
              "  }\n",
              "\n",
              "  .colab-df-quickchart:hover {\n",
              "    background-color: var(--hover-bg-color);\n",
              "    box-shadow: 0 1px 2px rgba(60, 64, 67, 0.3), 0 1px 3px 1px rgba(60, 64, 67, 0.15);\n",
              "    fill: var(--button-hover-fill-color);\n",
              "  }\n",
              "\n",
              "  .colab-df-quickchart-complete:disabled,\n",
              "  .colab-df-quickchart-complete:disabled:hover {\n",
              "    background-color: var(--disabled-bg-color);\n",
              "    fill: var(--disabled-fill-color);\n",
              "    box-shadow: none;\n",
              "  }\n",
              "\n",
              "  .colab-df-spinner {\n",
              "    border: 2px solid var(--fill-color);\n",
              "    border-color: transparent;\n",
              "    border-bottom-color: var(--fill-color);\n",
              "    animation:\n",
              "      spin 1s steps(1) infinite;\n",
              "  }\n",
              "\n",
              "  @keyframes spin {\n",
              "    0% {\n",
              "      border-color: transparent;\n",
              "      border-bottom-color: var(--fill-color);\n",
              "      border-left-color: var(--fill-color);\n",
              "    }\n",
              "    20% {\n",
              "      border-color: transparent;\n",
              "      border-left-color: var(--fill-color);\n",
              "      border-top-color: var(--fill-color);\n",
              "    }\n",
              "    30% {\n",
              "      border-color: transparent;\n",
              "      border-left-color: var(--fill-color);\n",
              "      border-top-color: var(--fill-color);\n",
              "      border-right-color: var(--fill-color);\n",
              "    }\n",
              "    40% {\n",
              "      border-color: transparent;\n",
              "      border-right-color: var(--fill-color);\n",
              "      border-top-color: var(--fill-color);\n",
              "    }\n",
              "    60% {\n",
              "      border-color: transparent;\n",
              "      border-right-color: var(--fill-color);\n",
              "    }\n",
              "    80% {\n",
              "      border-color: transparent;\n",
              "      border-right-color: var(--fill-color);\n",
              "      border-bottom-color: var(--fill-color);\n",
              "    }\n",
              "    90% {\n",
              "      border-color: transparent;\n",
              "      border-bottom-color: var(--fill-color);\n",
              "    }\n",
              "  }\n",
              "</style>\n",
              "\n",
              "  <script>\n",
              "    async function quickchart(key) {\n",
              "      const quickchartButtonEl =\n",
              "        document.querySelector('#' + key + ' button');\n",
              "      quickchartButtonEl.disabled = true;  // To prevent multiple clicks.\n",
              "      quickchartButtonEl.classList.add('colab-df-spinner');\n",
              "      try {\n",
              "        const charts = await google.colab.kernel.invokeFunction(\n",
              "            'suggestCharts', [key], {});\n",
              "      } catch (error) {\n",
              "        console.error('Error during call to suggestCharts:', error);\n",
              "      }\n",
              "      quickchartButtonEl.classList.remove('colab-df-spinner');\n",
              "      quickchartButtonEl.classList.add('colab-df-quickchart-complete');\n",
              "    }\n",
              "    (() => {\n",
              "      let quickchartButtonEl =\n",
              "        document.querySelector('#df-a0644d91-0ea9-4b4c-8d76-4f5f5b9f171a button');\n",
              "      quickchartButtonEl.style.display =\n",
              "        google.colab.kernel.accessAllowed ? 'block' : 'none';\n",
              "    })();\n",
              "  </script>\n",
              "</div>\n",
              "\n",
              "    </div>\n",
              "  </div>\n"
            ]
          },
          "metadata": {},
          "execution_count": 2
        }
      ]
    },
    {
      "cell_type": "code",
      "source": [
        "#let us\n",
        "df['label'].value_counts()"
      ],
      "metadata": {
        "colab": {
          "base_uri": "https://localhost:8080/"
        },
        "id": "_E6i4ewaosHG",
        "outputId": "712fce57-ab14-43b4-864c-d9f44b63bb97"
      },
      "execution_count": null,
      "outputs": [
        {
          "output_type": "execute_result",
          "data": {
            "text/plain": [
              "french     75022\n",
              "english    44035\n",
              "spanish    36655\n",
              "Name: label, dtype: int64"
            ]
          },
          "metadata": {},
          "execution_count": 43
        }
      ]
    },
    {
      "cell_type": "code",
      "source": [
        "df['label'].shape"
      ],
      "metadata": {
        "colab": {
          "base_uri": "https://localhost:8080/"
        },
        "id": "cTxVKVLDtLtI",
        "outputId": "fc64fb06-0bf5-4555-8c85-b4af4cc94d98"
      },
      "execution_count": null,
      "outputs": [
        {
          "output_type": "execute_result",
          "data": {
            "text/plain": [
              "(155712,)"
            ]
          },
          "metadata": {},
          "execution_count": 44
        }
      ]
    },
    {
      "cell_type": "code",
      "source": [
        "from tensorflow.keras.models import Sequential\n",
        "from tensorflow.keras.layers import Dense, SimpleRNN, Dropout, LSTM\n",
        "from tensorflow.keras.utils import to_categorical"
      ],
      "metadata": {
        "id": "o64gTAsjr_4G"
      },
      "execution_count": null,
      "outputs": []
    },
    {
      "cell_type": "code",
      "source": [
        "from sklearn.model_selection import train_test_split\n",
        "from sklearn.preprocessing import LabelEncoder\n",
        "from tensorflow.keras.utils import to_categorical"
      ],
      "metadata": {
        "id": "K-0DYS9Bsn4P"
      },
      "execution_count": null,
      "outputs": []
    },
    {
      "cell_type": "code",
      "source": [
        "\n",
        "# One-hot encode labels if they are categorical\n",
        "# Create a label (category) encoder object\n",
        "le = LabelEncoder()\n",
        "df['label'] = le.fit_transform(df['label'])# Separate features and labels\n",
        "X = df.drop('label', axis=1).values  # Features\n",
        "y = df['label'].values  # Labels\n",
        "\n",
        "\n",
        "num_classes = len(np.unique(y))\n",
        "# One-hot encode labels\n",
        "y = to_categorical(y, num_classes=num_classes)\n",
        "\n",
        "\n",
        "\n",
        "# Reshape X to be 3D [samples, timesteps, features] for RNN\n",
        "X = X.reshape((X.shape[0], 1, X.shape[1]))\n",
        "print(X.shape)\n",
        "print(y.shape)\n",
        "\n",
        "# Split the data\n",
        "X_train, X_test, y_train, y_test = train_test_split(X, y, test_size=0.2, random_state=42)\n",
        "print(X_train.shape)\n",
        "print(X_test.shape)\n",
        "print(y_train.shape)\n",
        "print(y_test.shape)"
      ],
      "metadata": {
        "colab": {
          "base_uri": "https://localhost:8080/"
        },
        "id": "dxIxMR06upCv",
        "outputId": "d5280ce5-84e2-4b25-c9fd-c0ddb0705dec"
      },
      "execution_count": null,
      "outputs": [
        {
          "output_type": "stream",
          "name": "stdout",
          "text": [
            "(155712, 1, 40)\n",
            "(155712, 3)\n",
            "(124569, 1, 40)\n",
            "(31143, 1, 40)\n",
            "(124569, 3)\n",
            "(31143, 3)\n"
          ]
        }
      ]
    },
    {
      "cell_type": "code",
      "source": [
        "X.shape"
      ],
      "metadata": {
        "colab": {
          "base_uri": "https://localhost:8080/"
        },
        "id": "dvHAfKQJsgjO",
        "outputId": "bb236213-c400-4797-d774-6739b0a412c6"
      },
      "execution_count": null,
      "outputs": [
        {
          "output_type": "execute_result",
          "data": {
            "text/plain": [
              "(155712, 1, 40)"
            ]
          },
          "metadata": {},
          "execution_count": 50
        }
      ]
    },
    {
      "cell_type": "code",
      "source": [
        "# Define RNN model\n",
        "model = Sequential()\n",
        "model.add(LSTM(64, input_shape=(X_train.shape[1], X_train.shape[2]), return_sequences=True))\n",
        "model.add(Dropout(0.5))\n",
        "model.add(LSTM(32))\n",
        "model.add(Dense(3, activation='softmax'))  # Output layer"
      ],
      "metadata": {
        "id": "T8awqxeis1qz"
      },
      "execution_count": null,
      "outputs": []
    },
    {
      "cell_type": "code",
      "source": [
        "# Compile the model\n",
        "model.compile(optimizer='adam', loss='categorical_crossentropy', metrics=['accuracy'])\n"
      ],
      "metadata": {
        "id": "ldTr255LtF6u"
      },
      "execution_count": null,
      "outputs": []
    },
    {
      "cell_type": "code",
      "source": [
        "# Train the model\n",
        "model.fit(X_train, y_train, epochs=10, batch_size=32, validation_data=(X_test, y_test))\n"
      ],
      "metadata": {
        "colab": {
          "base_uri": "https://localhost:8080/"
        },
        "id": "la4XS0rDtJ4X",
        "outputId": "7e18b956-d5c4-4c9d-bfe1-2fffa9ef4457"
      },
      "execution_count": null,
      "outputs": [
        {
          "output_type": "stream",
          "name": "stdout",
          "text": [
            "Epoch 1/10\n",
            "3893/3893 [==============================] - 36s 7ms/step - loss: 0.5904 - accuracy: 0.7617 - val_loss: 0.4646 - val_accuracy: 0.8173\n",
            "Epoch 2/10\n",
            "3893/3893 [==============================] - 29s 8ms/step - loss: 0.5047 - accuracy: 0.8021 - val_loss: 0.4260 - val_accuracy: 0.8360\n",
            "Epoch 3/10\n",
            "3893/3893 [==============================] - 27s 7ms/step - loss: 0.4831 - accuracy: 0.8105 - val_loss: 0.4147 - val_accuracy: 0.8418\n",
            "Epoch 4/10\n",
            "3893/3893 [==============================] - 26s 7ms/step - loss: 0.4695 - accuracy: 0.8163 - val_loss: 0.4073 - val_accuracy: 0.8444\n",
            "Epoch 5/10\n",
            "3893/3893 [==============================] - 27s 7ms/step - loss: 0.4603 - accuracy: 0.8212 - val_loss: 0.3893 - val_accuracy: 0.8526\n",
            "Epoch 6/10\n",
            "3893/3893 [==============================] - 28s 7ms/step - loss: 0.4507 - accuracy: 0.8248 - val_loss: 0.3830 - val_accuracy: 0.8553\n",
            "Epoch 7/10\n",
            "3893/3893 [==============================] - 28s 7ms/step - loss: 0.4454 - accuracy: 0.8279 - val_loss: 0.3705 - val_accuracy: 0.8607\n",
            "Epoch 8/10\n",
            "3893/3893 [==============================] - 29s 7ms/step - loss: 0.4382 - accuracy: 0.8313 - val_loss: 0.3741 - val_accuracy: 0.8597\n",
            "Epoch 9/10\n",
            "3893/3893 [==============================] - 28s 7ms/step - loss: 0.4324 - accuracy: 0.8339 - val_loss: 0.3737 - val_accuracy: 0.8585\n",
            "Epoch 10/10\n",
            "3893/3893 [==============================] - 28s 7ms/step - loss: 0.4286 - accuracy: 0.8343 - val_loss: 0.3602 - val_accuracy: 0.8643\n"
          ]
        },
        {
          "output_type": "execute_result",
          "data": {
            "text/plain": [
              "<keras.src.callbacks.History at 0x7cb670573f10>"
            ]
          },
          "metadata": {},
          "execution_count": 53
        }
      ]
    },
    {
      "cell_type": "code",
      "source": [
        "loss, accuracy = model.evaluate(X_test, y_test)\n",
        "print(\"Test Accuracy:\", accuracy)"
      ],
      "metadata": {
        "colab": {
          "base_uri": "https://localhost:8080/"
        },
        "id": "s3WPraugtaV0",
        "outputId": "a474a9f4-74d6-4854-9a8f-edf88d1fe4d8"
      },
      "execution_count": null,
      "outputs": [
        {
          "output_type": "stream",
          "name": "stdout",
          "text": [
            "974/974 [==============================] - 4s 4ms/step - loss: 0.3602 - accuracy: 0.8643\n",
            "Test Accuracy: 0.8643354773521423\n"
          ]
        }
      ]
    },
    {
      "cell_type": "code",
      "source": [
        "path = '/content/drive/MyDrive/255model1.h5'\n",
        "model.save(path)"
      ],
      "metadata": {
        "colab": {
          "base_uri": "https://localhost:8080/"
        },
        "id": "tnQQ54T50-ji",
        "outputId": "a1fc7508-d8f3-4e16-b6cb-b83ff50cc50c"
      },
      "execution_count": null,
      "outputs": [
        {
          "output_type": "stream",
          "name": "stderr",
          "text": [
            "/usr/local/lib/python3.10/dist-packages/keras/src/engine/training.py:3079: UserWarning: You are saving your model as an HDF5 file via `model.save()`. This file format is considered legacy. We recommend using instead the native Keras format, e.g. `model.save('my_model.keras')`.\n",
            "  saving_api.save_model(\n"
          ]
        }
      ]
    },
    {
      "cell_type": "code",
      "source": [
        "# Define RNN model\n",
        "model = Sequential()\n",
        "model.add(LSTM(64, input_shape=(X_train.shape[1], X_train.shape[2]), return_sequences=True))\n",
        "model.add(Dropout(0.5))\n",
        "model.add(LSTM(32,return_sequences=True))\n",
        "model.add(Dropout(0.5))\n",
        "model.add(LSTM(16))\n",
        "model.add(Dropout(0.5))\n",
        "model.add(Dense(3, activation='softmax'))  # Output layer"
      ],
      "metadata": {
        "id": "fLkyZHNE14Pn"
      },
      "execution_count": null,
      "outputs": []
    },
    {
      "cell_type": "code",
      "source": [
        "# Compile the model\n",
        "model.compile(optimizer='adam', loss='categorical_crossentropy', metrics=['accuracy'])\n"
      ],
      "metadata": {
        "id": "iHw1P8Wf1dkP"
      },
      "execution_count": null,
      "outputs": []
    },
    {
      "cell_type": "code",
      "source": [
        "# Train the model\n",
        "model.fit(X_train, y_train, epochs=10, batch_size=16, validation_data=(X_test, y_test))\n"
      ],
      "metadata": {
        "colab": {
          "base_uri": "https://localhost:8080/"
        },
        "id": "IyA5skD94Lg7",
        "outputId": "74e60a8f-0fde-49f1-d599-8319c7d75f5f"
      },
      "execution_count": null,
      "outputs": [
        {
          "output_type": "stream",
          "name": "stdout",
          "text": [
            "Epoch 1/10\n",
            "7786/7786 [==============================] - 82s 9ms/step - loss: 0.6614 - accuracy: 0.7338 - val_loss: 0.5056 - val_accuracy: 0.8033\n",
            "Epoch 2/10\n",
            "7786/7786 [==============================] - 77s 10ms/step - loss: 0.5796 - accuracy: 0.7730 - val_loss: 0.4715 - val_accuracy: 0.8183\n",
            "Epoch 3/10\n",
            "7786/7786 [==============================] - 76s 10ms/step - loss: 0.5527 - accuracy: 0.7872 - val_loss: 0.4595 - val_accuracy: 0.8274\n",
            "Epoch 4/10\n",
            "7786/7786 [==============================] - 77s 10ms/step - loss: 0.5397 - accuracy: 0.7913 - val_loss: 0.4392 - val_accuracy: 0.8325\n",
            "Epoch 5/10\n",
            "7786/7786 [==============================] - 76s 10ms/step - loss: 0.5269 - accuracy: 0.7971 - val_loss: 0.4255 - val_accuracy: 0.8374\n",
            "Epoch 6/10\n",
            "7786/7786 [==============================] - 72s 9ms/step - loss: 0.5219 - accuracy: 0.7977 - val_loss: 0.4185 - val_accuracy: 0.8452\n",
            "Epoch 7/10\n",
            "7786/7786 [==============================] - 73s 9ms/step - loss: 0.5145 - accuracy: 0.8041 - val_loss: 0.4188 - val_accuracy: 0.8415\n",
            "Epoch 8/10\n",
            "7786/7786 [==============================] - 75s 10ms/step - loss: 0.5085 - accuracy: 0.8055 - val_loss: 0.4155 - val_accuracy: 0.8430\n",
            "Epoch 9/10\n",
            "7786/7786 [==============================] - 76s 10ms/step - loss: 0.5027 - accuracy: 0.8084 - val_loss: 0.4124 - val_accuracy: 0.8418\n",
            "Epoch 10/10\n",
            "7786/7786 [==============================] - 74s 10ms/step - loss: 0.4984 - accuracy: 0.8114 - val_loss: 0.4036 - val_accuracy: 0.8505\n"
          ]
        },
        {
          "output_type": "execute_result",
          "data": {
            "text/plain": [
              "<keras.src.callbacks.History at 0x79b38ff3b8e0>"
            ]
          },
          "metadata": {},
          "execution_count": 11
        }
      ]
    },
    {
      "cell_type": "code",
      "source": [
        "loss, accuracy = model.evaluate(X_test, y_test)\n",
        "print(\"Test Accuracy:\", accuracy)"
      ],
      "metadata": {
        "colab": {
          "base_uri": "https://localhost:8080/"
        },
        "id": "Ea2E7eMd4OWk",
        "outputId": "9ce6fbfa-7457-43b2-8080-0dc8143b9b22"
      },
      "execution_count": null,
      "outputs": [
        {
          "output_type": "stream",
          "name": "stdout",
          "text": [
            "974/974 [==============================] - 5s 5ms/step - loss: 0.4036 - accuracy: 0.8505\n",
            "Test Accuracy: 0.8504639863967896\n"
          ]
        }
      ]
    },
    {
      "cell_type": "code",
      "source": [
        "path = '/content/drive/MyDrive/255model_3layerLSTM.h5'\n",
        "model.save(path)"
      ],
      "metadata": {
        "colab": {
          "base_uri": "https://localhost:8080/"
        },
        "id": "MvLj3Vuh7lvT",
        "outputId": "f1b97955-e6a1-440f-e047-4e79120de464"
      },
      "execution_count": null,
      "outputs": [
        {
          "output_type": "stream",
          "name": "stderr",
          "text": [
            "/usr/local/lib/python3.10/dist-packages/keras/src/engine/training.py:3079: UserWarning: You are saving your model as an HDF5 file via `model.save()`. This file format is considered legacy. We recommend using instead the native Keras format, e.g. `model.save('my_model.keras')`.\n",
            "  saving_api.save_model(\n"
          ]
        }
      ]
    },
    {
      "cell_type": "markdown",
      "source": [
        "Trying CNN"
      ],
      "metadata": {
        "id": "Qm4Zfogl7wG3"
      }
    },
    {
      "cell_type": "code",
      "source": [],
      "metadata": {
        "id": "7UEtrZb17vzm"
      },
      "execution_count": null,
      "outputs": []
    },
    {
      "cell_type": "code",
      "source": [
        "\n",
        "#df['label'] = le.fit_transform(df['label'])# Separate features and labels\n",
        "# Assuming 'df' is your DataFrame and 'label' is the column with labels\n",
        "X = df.drop('label', axis=1).values\n",
        "y = df['label'].values\n",
        "\n",
        "# Reshape X to be [samples, time steps, features]\n",
        "X_reshaped = X.reshape(X.shape[0], X.shape[1], 1)\n",
        "\n",
        "# One-hot encode y if necessary\n",
        "y_encoded = to_categorical(y)\n",
        "\n",
        "# Split the data into training and testing sets\n",
        "X_train, X_test, y_train, y_test = train_test_split(X_reshaped, y_encoded, test_size=0.2, random_state=42)\n"
      ],
      "metadata": {
        "id": "zOx2r_037r1j"
      },
      "execution_count": null,
      "outputs": []
    },
    {
      "cell_type": "code",
      "source": [
        "from keras.models import Sequential\n",
        "from keras.layers import Conv2D, MaxPooling2D, Flatten, Dense, Dropout, Activation, Conv1D, MaxPooling1D"
      ],
      "metadata": {
        "id": "V2vQhmEy_E5X"
      },
      "execution_count": null,
      "outputs": []
    },
    {
      "cell_type": "code",
      "source": [
        "num_mfcc = 40  # Number of MFCC features\n",
        "num_classes = 3  # Number of classes in your classification task\n",
        "\n",
        "model = Sequential()\n",
        "# Layer 1\n",
        "model.add(Conv1D(32, 3, input_shape=(num_mfcc, 1)))\n",
        "model.add(Activation('relu'))\n",
        "model.add(MaxPooling1D(pool_size=2))\n",
        "\n",
        "# Layer 2\n",
        "model.add(Conv1D(64, 3))\n",
        "model.add(Activation('relu'))\n",
        "\n",
        "# Layer 3\n",
        "model.add(Conv1D(128, 3))\n",
        "model.add(Activation('relu'))\n",
        "\n",
        "# Layer 4\n",
        "model.add(Conv1D(256, 3))\n",
        "model.add(Activation('relu'))\n",
        "\n",
        "# Layer 5\n",
        "model.add(Conv1D(512, 3))\n",
        "model.add(Activation('relu'))\n",
        "model.add(MaxPooling1D(pool_size=2))\n",
        "\n",
        "# Flattening and Dense Layers\n",
        "model.add(Flatten())\n",
        "model.add(Dense(512, activation='relu'))\n",
        "model.add(Dropout(0.5))\n",
        "model.add(Dense(num_classes, activation='softmax'))  # Output layer\n",
        "\n",
        "# Compile the model\n",
        "model.compile(loss='categorical_crossentropy',\n",
        "              optimizer='adam',\n",
        "              metrics=['accuracy'])"
      ],
      "metadata": {
        "id": "2Rda0gQa_AOX"
      },
      "execution_count": null,
      "outputs": []
    },
    {
      "cell_type": "code",
      "source": [
        "# Train the model\n",
        "model.fit(X_train, y_train, epochs=10, batch_size=32, validation_data=(X_test, y_test))\n"
      ],
      "metadata": {
        "colab": {
          "base_uri": "https://localhost:8080/"
        },
        "id": "P3ON1jJZ_Lfa",
        "outputId": "19d0e708-b74d-4e92-a8c7-be391c8b3fe1"
      },
      "execution_count": null,
      "outputs": [
        {
          "output_type": "stream",
          "name": "stdout",
          "text": [
            "Epoch 1/10\n",
            "3893/3893 [==============================] - 35s 7ms/step - loss: 0.3813 - accuracy: 0.8545 - val_loss: 0.2792 - val_accuracy: 0.8986\n",
            "Epoch 2/10\n",
            "3893/3893 [==============================] - 27s 7ms/step - loss: 0.2566 - accuracy: 0.9058 - val_loss: 0.2294 - val_accuracy: 0.9176\n",
            "Epoch 3/10\n",
            "3893/3893 [==============================] - 33s 8ms/step - loss: 0.2106 - accuracy: 0.9242 - val_loss: 0.2210 - val_accuracy: 0.9196\n",
            "Epoch 4/10\n",
            "3893/3893 [==============================] - 26s 7ms/step - loss: 0.1790 - accuracy: 0.9360 - val_loss: 0.2003 - val_accuracy: 0.9298\n",
            "Epoch 5/10\n",
            "3893/3893 [==============================] - 28s 7ms/step - loss: 0.1582 - accuracy: 0.9436 - val_loss: 0.1808 - val_accuracy: 0.9376\n",
            "Epoch 6/10\n",
            "3893/3893 [==============================] - 29s 7ms/step - loss: 0.1406 - accuracy: 0.9491 - val_loss: 0.1867 - val_accuracy: 0.9371\n",
            "Epoch 7/10\n",
            "3893/3893 [==============================] - 26s 7ms/step - loss: 0.1316 - accuracy: 0.9528 - val_loss: 0.1875 - val_accuracy: 0.9378\n",
            "Epoch 8/10\n",
            "3893/3893 [==============================] - 28s 7ms/step - loss: 0.1196 - accuracy: 0.9582 - val_loss: 0.1922 - val_accuracy: 0.9390\n",
            "Epoch 9/10\n",
            "3893/3893 [==============================] - 29s 7ms/step - loss: 0.1136 - accuracy: 0.9599 - val_loss: 0.2050 - val_accuracy: 0.9378\n",
            "Epoch 10/10\n",
            "3893/3893 [==============================] - 27s 7ms/step - loss: 0.1102 - accuracy: 0.9617 - val_loss: 0.2014 - val_accuracy: 0.9383\n"
          ]
        },
        {
          "output_type": "execute_result",
          "data": {
            "text/plain": [
              "<keras.src.callbacks.History at 0x79b32e197160>"
            ]
          },
          "metadata": {},
          "execution_count": 22
        }
      ]
    },
    {
      "cell_type": "code",
      "source": [
        "loss, accuracy = model.evaluate(X_test, y_test)\n",
        "print(\"Test Accuracy:\", accuracy)"
      ],
      "metadata": {
        "colab": {
          "base_uri": "https://localhost:8080/"
        },
        "id": "DMpU9MuZ_2M5",
        "outputId": "cc516bd5-0d83-44e3-dfe1-b77b65154125"
      },
      "execution_count": null,
      "outputs": [
        {
          "output_type": "stream",
          "name": "stdout",
          "text": [
            "974/974 [==============================] - 6s 6ms/step - loss: 0.2014 - accuracy: 0.9383\n",
            "Test Accuracy: 0.938284695148468\n"
          ]
        }
      ]
    },
    {
      "cell_type": "code",
      "source": [
        "path = '/content/drive/MyDrive/255mode_5layerCNN.h5'\n",
        "model.save(path)"
      ],
      "metadata": {
        "colab": {
          "base_uri": "https://localhost:8080/"
        },
        "id": "XZznedvXBXMh",
        "outputId": "28ce6c39-162d-4166-f7dd-c56639fd7ec3"
      },
      "execution_count": null,
      "outputs": [
        {
          "output_type": "stream",
          "name": "stderr",
          "text": [
            "/usr/local/lib/python3.10/dist-packages/keras/src/engine/training.py:3079: UserWarning: You are saving your model as an HDF5 file via `model.save()`. This file format is considered legacy. We recommend using instead the native Keras format, e.g. `model.save('my_model.keras')`.\n",
            "  saving_api.save_model(\n"
          ]
        }
      ]
    },
    {
      "cell_type": "code",
      "source": [
        "from sklearn.metrics import classification_report, confusion_matrix"
      ],
      "metadata": {
        "id": "PYyz88ypBdjv"
      },
      "execution_count": null,
      "outputs": []
    },
    {
      "cell_type": "code",
      "source": [
        "# Make predictions\n",
        "predictions = model.predict(X_test)\n",
        "predicted_classes = np.argmax(predictions, axis=1)\n",
        "true_classes = np.argmax(y_test, axis=1)\n",
        "\n",
        "# Generate classification report\n",
        "report = classification_report(true_classes, predicted_classes)\n",
        "print(\"Classification Report:\\n\", report)\n",
        "\n",
        "# Generate confusion matrix\n",
        "conf_matrix = confusion_matrix(true_classes, predicted_classes)\n",
        "print(\"Confusion Matrix:\\n\", conf_matrix)\n"
      ],
      "metadata": {
        "colab": {
          "base_uri": "https://localhost:8080/"
        },
        "id": "3m_uXpA-Biqq",
        "outputId": "60a95508-b6eb-4391-9890-513693e9eff4"
      },
      "execution_count": null,
      "outputs": [
        {
          "output_type": "stream",
          "name": "stdout",
          "text": [
            "974/974 [==============================] - 5s 5ms/step\n",
            "Classification Report:\n",
            "               precision    recall  f1-score   support\n",
            "\n",
            "           0       0.90      0.92      0.91      8699\n",
            "           1       0.94      0.95      0.95     15092\n",
            "           2       0.97      0.93      0.95      7352\n",
            "\n",
            "    accuracy                           0.94     31143\n",
            "   macro avg       0.94      0.93      0.94     31143\n",
            "weighted avg       0.94      0.94      0.94     31143\n",
            "\n",
            "Confusion Matrix:\n",
            " [[ 8020   595    84]\n",
            " [  610 14367   115]\n",
            " [  263   255  6834]]\n"
          ]
        }
      ]
    },
    {
      "cell_type": "code",
      "source": [],
      "metadata": {
        "id": "hzGNr7BiBmK-"
      },
      "execution_count": null,
      "outputs": []
    }
  ]
}